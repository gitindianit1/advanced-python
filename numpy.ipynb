{
  "nbformat": 4,
  "nbformat_minor": 0,
  "metadata": {
    "colab": {
      "provenance": []
    },
    "kernelspec": {
      "name": "python3",
      "display_name": "Python 3"
    },
    "language_info": {
      "name": "python"
    }
  },
  "cells": [
    {
      "cell_type": "code",
      "execution_count": 1,
      "metadata": {
        "id": "SX6w610EswU4"
      },
      "outputs": [],
      "source": [
        "import numpy as np"
      ]
    },
    {
      "cell_type": "markdown",
      "source": [
        "\n",
        "# dimensional"
      ],
      "metadata": {
        "id": "kfd6oRKbtk6x"
      }
    },
    {
      "cell_type": "code",
      "source": [
        "arr = np.array([1,2,3,4,5])\n",
        "arr"
      ],
      "metadata": {
        "colab": {
          "base_uri": "https://localhost:8080/"
        },
        "id": "CzJk5Skmt3KZ",
        "outputId": "4e2d7a5c-bec6-4a81-a3c4-3caf6bf038a4"
      },
      "execution_count": 3,
      "outputs": [
        {
          "output_type": "execute_result",
          "data": {
            "text/plain": [
              "array([1, 2, 3, 4, 5])"
            ]
          },
          "metadata": {},
          "execution_count": 3
        }
      ]
    },
    {
      "cell_type": "code",
      "source": [
        "arr.ndim"
      ],
      "metadata": {
        "colab": {
          "base_uri": "https://localhost:8080/"
        },
        "id": "rOyyPggSuBKR",
        "outputId": "72919982-b27a-4dc2-bba7-501b758577c3"
      },
      "execution_count": 4,
      "outputs": [
        {
          "output_type": "execute_result",
          "data": {
            "text/plain": [
              "1"
            ]
          },
          "metadata": {},
          "execution_count": 4
        }
      ]
    },
    {
      "cell_type": "code",
      "source": [
        "arr = np.full((2,3),8)\n",
        "arr"
      ],
      "metadata": {
        "colab": {
          "base_uri": "https://localhost:8080/"
        },
        "id": "fdkcFudGtg0R",
        "outputId": "325d3f4f-b874-4f54-ece7-924290a87f55"
      },
      "execution_count": 6,
      "outputs": [
        {
          "output_type": "execute_result",
          "data": {
            "text/plain": [
              "array([[8, 8, 8],\n",
              "       [8, 8, 8]])"
            ]
          },
          "metadata": {},
          "execution_count": 6
        }
      ]
    },
    {
      "cell_type": "code",
      "source": [
        "a = np.random.rand(1,100,3) # -1 to 1\n",
        "a"
      ],
      "metadata": {
        "colab": {
          "base_uri": "https://localhost:8080/"
        },
        "id": "yYqBlTnmuSth",
        "outputId": "0dcca5c4-856f-4f5d-9683-bb502a631e35"
      },
      "execution_count": 13,
      "outputs": [
        {
          "output_type": "execute_result",
          "data": {
            "text/plain": [
              "array([[[0.92543299, 0.24358228, 0.22444936],\n",
              "        [0.69176571, 0.05206235, 0.22239224],\n",
              "        [0.00485973, 0.24659178, 0.7410832 ],\n",
              "        [0.96051116, 0.8346535 , 0.32713283],\n",
              "        [0.66241478, 0.27345225, 0.95497209],\n",
              "        [0.06577895, 0.74169647, 0.37142005],\n",
              "        [0.71239508, 0.64947466, 0.82444859],\n",
              "        [0.25633249, 0.05669935, 0.16410878],\n",
              "        [0.27623809, 0.17036275, 0.85301121],\n",
              "        [0.15839284, 0.72382637, 0.34734575],\n",
              "        [0.60995129, 0.58660098, 0.85581734],\n",
              "        [0.07055807, 0.57654479, 0.62720214],\n",
              "        [0.32389028, 0.44039967, 0.66122299],\n",
              "        [0.09437292, 0.25461212, 0.08257908],\n",
              "        [0.27326353, 0.43462846, 0.13386135],\n",
              "        [0.71923033, 0.22459095, 0.5360195 ],\n",
              "        [0.60863562, 0.2195161 , 0.9896653 ],\n",
              "        [0.56734804, 0.25109798, 0.86999761],\n",
              "        [0.4722728 , 0.32218665, 0.81628005],\n",
              "        [0.61507964, 0.35293703, 0.39619355],\n",
              "        [0.50941849, 0.05744305, 0.94169353],\n",
              "        [0.59807566, 0.20051238, 0.03131677],\n",
              "        [0.47638289, 0.74899646, 0.7173356 ],\n",
              "        [0.35684703, 0.14758248, 0.02536329],\n",
              "        [0.60826292, 0.15598024, 0.44430233],\n",
              "        [0.54795412, 0.55347488, 0.2000648 ],\n",
              "        [0.7750407 , 0.83122387, 0.09277345],\n",
              "        [0.1177311 , 0.79013707, 0.68408258],\n",
              "        [0.29173271, 0.17778352, 0.20479118],\n",
              "        [0.25864384, 0.95534066, 0.02236175],\n",
              "        [0.63249168, 0.93105677, 0.29318925],\n",
              "        [0.31894468, 0.72937441, 0.11593573],\n",
              "        [0.40508916, 0.16275761, 0.39650242],\n",
              "        [0.30532775, 0.06038839, 0.31951521],\n",
              "        [0.8028546 , 0.21388913, 0.21072156],\n",
              "        [0.43350789, 0.91014179, 0.70569209],\n",
              "        [0.41328445, 0.73528014, 0.83219938],\n",
              "        [0.45939705, 0.86012268, 0.68928485],\n",
              "        [0.41952815, 0.26448516, 0.78759512],\n",
              "        [0.94470871, 0.01979463, 0.31234349],\n",
              "        [0.73594735, 0.67679313, 0.09322823],\n",
              "        [0.36364249, 0.131105  , 0.9028495 ],\n",
              "        [0.00854042, 0.11555704, 0.31398041],\n",
              "        [0.3141025 , 0.47243244, 0.30236967],\n",
              "        [0.43618835, 0.83467928, 0.59277839],\n",
              "        [0.73208748, 0.35891837, 0.01104831],\n",
              "        [0.68842356, 0.42032201, 0.09758403],\n",
              "        [0.76811737, 0.48911951, 0.00250736],\n",
              "        [0.53134861, 0.21102426, 0.88172056],\n",
              "        [0.62320771, 0.13005881, 0.38799395],\n",
              "        [0.63474313, 0.1063385 , 0.67247898],\n",
              "        [0.36688685, 0.22454354, 0.13040126],\n",
              "        [0.7330853 , 0.88875667, 0.87068022],\n",
              "        [0.87410114, 0.38420824, 0.11558641],\n",
              "        [0.6832894 , 0.40902041, 0.7857493 ],\n",
              "        [0.64894854, 0.33235438, 0.26026606],\n",
              "        [0.43892022, 0.46813018, 0.27341636],\n",
              "        [0.8005649 , 0.59226612, 0.82867989],\n",
              "        [0.47327321, 0.18066071, 0.40859514],\n",
              "        [0.85419657, 0.63006121, 0.26631978],\n",
              "        [0.31560488, 0.92855582, 0.52881404],\n",
              "        [0.66038512, 0.71898583, 0.33643028],\n",
              "        [0.88699926, 0.9882734 , 0.03265513],\n",
              "        [0.10269511, 0.64903133, 0.08349266],\n",
              "        [0.43709534, 0.21114669, 0.70495231],\n",
              "        [0.97327802, 0.71312968, 0.99748327],\n",
              "        [0.21729305, 0.29644252, 0.08878   ],\n",
              "        [0.47120078, 0.79341288, 0.33905052],\n",
              "        [0.49815832, 0.12710535, 0.9021902 ],\n",
              "        [0.90124184, 0.39191475, 0.80067583],\n",
              "        [0.84729812, 0.59704321, 0.43011601],\n",
              "        [0.67034127, 0.78114604, 0.21810911],\n",
              "        [0.65907656, 0.00780806, 0.64415353],\n",
              "        [0.39405475, 0.41494297, 0.54877629],\n",
              "        [0.51611181, 0.30548321, 0.57185384],\n",
              "        [0.23961674, 0.72196716, 0.74915991],\n",
              "        [0.89429479, 0.11459186, 0.29869791],\n",
              "        [0.41626017, 0.8246593 , 0.62739734],\n",
              "        [0.63378789, 0.21707632, 0.28590301],\n",
              "        [0.77106505, 0.19664186, 0.9411665 ],\n",
              "        [0.9532378 , 0.33699586, 0.32081053],\n",
              "        [0.06991217, 0.74664258, 0.22449845],\n",
              "        [0.83701331, 0.6459443 , 0.71581374],\n",
              "        [0.2631993 , 0.54095681, 0.21046809],\n",
              "        [0.25239981, 0.63656611, 0.87298722],\n",
              "        [0.19654318, 0.11910629, 0.92639742],\n",
              "        [0.78859342, 0.966024  , 0.89001327],\n",
              "        [0.51946649, 0.22148481, 0.35855014],\n",
              "        [0.65547467, 0.76059841, 0.9850271 ],\n",
              "        [0.94578118, 0.83633736, 0.60430283],\n",
              "        [0.66308375, 0.59801785, 0.76181803],\n",
              "        [0.77426649, 0.65446802, 0.11500702],\n",
              "        [0.62991425, 0.13197823, 0.20410813],\n",
              "        [0.15642427, 0.44768159, 0.13375585],\n",
              "        [0.29400513, 0.07210382, 0.2173452 ],\n",
              "        [0.0955834 , 0.69714214, 0.49184565],\n",
              "        [0.51519545, 0.23289038, 0.18864193],\n",
              "        [0.22093215, 0.26236617, 0.8217994 ],\n",
              "        [0.99969641, 0.84165527, 0.04527092],\n",
              "        [0.02559689, 0.59686159, 0.64163469]]])"
            ]
          },
          "metadata": {},
          "execution_count": 13
        }
      ]
    },
    {
      "cell_type": "code",
      "source": [
        "import seaborn as sns\n",
        "import matplotlib.pyplot as plt\n"
      ],
      "metadata": {
        "id": "4b10WRNluqCh"
      },
      "execution_count": 11,
      "outputs": []
    },
    {
      "cell_type": "code",
      "source": [
        "a = np.random.randint(1,10,10)\n",
        "a"
      ],
      "metadata": {
        "colab": {
          "base_uri": "https://localhost:8080/"
        },
        "id": "Qm-oK4mWvKja",
        "outputId": "64f70042-2769-4372-9c29-1045a572f985"
      },
      "execution_count": 14,
      "outputs": [
        {
          "output_type": "execute_result",
          "data": {
            "text/plain": [
              "array([5, 9, 2, 7, 2, 1, 6, 4, 4, 5])"
            ]
          },
          "metadata": {},
          "execution_count": 14
        }
      ]
    },
    {
      "cell_type": "code",
      "source": [
        "sns.distplot(a)"
      ],
      "metadata": {
        "colab": {
          "base_uri": "https://localhost:8080/",
          "height": 654
        },
        "id": "noiSGDnNuEFa",
        "outputId": "a65b88d2-e511-4fb7-de59-6d372598a99a"
      },
      "execution_count": 12,
      "outputs": [
        {
          "output_type": "stream",
          "name": "stderr",
          "text": [
            "/tmp/ipython-input-12-819221729.py:1: UserWarning: \n",
            "\n",
            "`distplot` is a deprecated function and will be removed in seaborn v0.14.0.\n",
            "\n",
            "Please adapt your code to use either `displot` (a figure-level function with\n",
            "similar flexibility) or `histplot` (an axes-level function for histograms).\n",
            "\n",
            "For a guide to updating your code to use the new functions, please see\n",
            "https://gist.github.com/mwaskom/de44147ed2974457ad6372750bbe5751\n",
            "\n",
            "  sns.distplot(a)\n"
          ]
        },
        {
          "output_type": "execute_result",
          "data": {
            "text/plain": [
              "<Axes: ylabel='Density'>"
            ]
          },
          "metadata": {},
          "execution_count": 12
        },
        {
          "output_type": "display_data",
          "data": {
            "text/plain": [
              "<Figure size 640x480 with 1 Axes>"
            ],
            "image/png": "[encoded data removed]"
          },
          "metadata": {}
        }
      ]
    },
    {
      "cell_type": "code",
      "source": [
        "np.identity(3) # square"
      ],
      "metadata": {
        "colab": {
          "base_uri": "https://localhost:8080/"
        },
        "id": "qu3RFmtCvcXx",
        "outputId": "3eacd92a-3809-41d8-c250-252a099cd63b"
      },
      "execution_count": 15,
      "outputs": [
        {
          "output_type": "execute_result",
          "data": {
            "text/plain": [
              "array([[1., 0., 0.],\n",
              "       [0., 1., 0.],\n",
              "       [0., 0., 1.]])"
            ]
          },
          "metadata": {},
          "execution_count": 15
        }
      ]
    },
    {
      "cell_type": "code",
      "source": [
        "np.eye(3,k= 2)"
      ],
      "metadata": {
        "colab": {
          "base_uri": "https://localhost:8080/"
        },
        "id": "4ePerawQvjCJ",
        "outputId": "1e544e41-6ca6-490d-9308-843fa12595bf"
      },
      "execution_count": 19,
      "outputs": [
        {
          "output_type": "execute_result",
          "data": {
            "text/plain": [
              "array([[0., 0., 0.],\n",
              "       [0., 0., 0.],\n",
              "       [0., 0., 0.]])"
            ]
          },
          "metadata": {},
          "execution_count": 19
        }
      ]
    },
    {
      "cell_type": "code",
      "source": [
        "a= np.full((2,2,3,4),5)\n",
        "a"
      ],
      "metadata": {
        "colab": {
          "base_uri": "https://localhost:8080/"
        },
        "id": "MsE1sRuJwaBh",
        "outputId": "4a9d39f8-c84f-445d-9008-944f2a6dad42"
      },
      "execution_count": 21,
      "outputs": [
        {
          "output_type": "execute_result",
          "data": {
            "text/plain": [
              "array([[[[5, 5, 5, 5],\n",
              "         [5, 5, 5, 5],\n",
              "         [5, 5, 5, 5]],\n",
              "\n",
              "        [[5, 5, 5, 5],\n",
              "         [5, 5, 5, 5],\n",
              "         [5, 5, 5, 5]]],\n",
              "\n",
              "\n",
              "       [[[5, 5, 5, 5],\n",
              "         [5, 5, 5, 5],\n",
              "         [5, 5, 5, 5]],\n",
              "\n",
              "        [[5, 5, 5, 5],\n",
              "         [5, 5, 5, 5],\n",
              "         [5, 5, 5, 5]]]])"
            ]
          },
          "metadata": {},
          "execution_count": 21
        }
      ]
    },
    {
      "cell_type": "code",
      "source": [
        "a[1:]"
      ],
      "metadata": {
        "colab": {
          "base_uri": "https://localhost:8080/"
        },
        "id": "9dr40mHlwi7h",
        "outputId": "8fa89e88-6350-470a-f804-d9c83a532b5a"
      },
      "execution_count": 24,
      "outputs": [
        {
          "output_type": "execute_result",
          "data": {
            "text/plain": [
              "array([[[[5, 5, 5, 5],\n",
              "         [5, 5, 5, 5],\n",
              "         [5, 5, 5, 5]],\n",
              "\n",
              "        [[5, 5, 5, 5],\n",
              "         [5, 5, 5, 5],\n",
              "         [5, 5, 5, 5]]]])"
            ]
          },
          "metadata": {},
          "execution_count": 24
        }
      ]
    },
    {
      "cell_type": "code",
      "source": [
        "a[1:,1:]"
      ],
      "metadata": {
        "colab": {
          "base_uri": "https://localhost:8080/"
        },
        "id": "WJ0Ypfd2xH1q",
        "outputId": "030a5b04-e450-4b03-f5b3-869eaf2c7617"
      },
      "execution_count": 25,
      "outputs": [
        {
          "output_type": "execute_result",
          "data": {
            "text/plain": [
              "array([[[[5, 5, 5, 5],\n",
              "         [5, 5, 5, 5],\n",
              "         [5, 5, 5, 5]]]])"
            ]
          },
          "metadata": {},
          "execution_count": 25
        }
      ]
    },
    {
      "cell_type": "code",
      "source": [
        "a[1:,1:,1:,2:]"
      ],
      "metadata": {
        "colab": {
          "base_uri": "https://localhost:8080/"
        },
        "id": "WfjP5J89xJiR",
        "outputId": "50c6db72-3a33-4186-cea1-396de2141e42"
      },
      "execution_count": 27,
      "outputs": [
        {
          "output_type": "execute_result",
          "data": {
            "text/plain": [
              "array([[[[5, 5],\n",
              "         [5, 5]]]])"
            ]
          },
          "metadata": {},
          "execution_count": 27
        }
      ]
    },
    {
      "cell_type": "code",
      "source": [
        "a.ndim"
      ],
      "metadata": {
        "colab": {
          "base_uri": "https://localhost:8080/"
        },
        "id": "Zbe01Q9OxScJ",
        "outputId": "60e405c1-e785-4552-c83f-269ff2232c0e"
      },
      "execution_count": 28,
      "outputs": [
        {
          "output_type": "execute_result",
          "data": {
            "text/plain": [
              "4"
            ]
          },
          "metadata": {},
          "execution_count": 28
        }
      ]
    },
    {
      "cell_type": "code",
      "source": [
        "a.shape,a.size"
      ],
      "metadata": {
        "colab": {
          "base_uri": "https://localhost:8080/"
        },
        "id": "Uns2BQPzxURx",
        "outputId": "8e4d695c-f51b-4308-cfd7-5fd755c05b58"
      },
      "execution_count": 30,
      "outputs": [
        {
          "output_type": "execute_result",
          "data": {
            "text/plain": [
              "((2, 2, 3, 4), 48)"
            ]
          },
          "metadata": {},
          "execution_count": 30
        }
      ]
    },
    {
      "cell_type": "code",
      "source": [
        "a.reshape(6,8)"
      ],
      "metadata": {
        "colab": {
          "base_uri": "https://localhost:8080/"
        },
        "id": "XTXvAbO2xgdx",
        "outputId": "912cfcfe-d35c-49c5-c37b-4e10c2a6b8f0"
      },
      "execution_count": 31,
      "outputs": [
        {
          "output_type": "execute_result",
          "data": {
            "text/plain": [
              "array([[5, 5, 5, 5, 5, 5, 5, 5],\n",
              "       [5, 5, 5, 5, 5, 5, 5, 5],\n",
              "       [5, 5, 5, 5, 5, 5, 5, 5],\n",
              "       [5, 5, 5, 5, 5, 5, 5, 5],\n",
              "       [5, 5, 5, 5, 5, 5, 5, 5],\n",
              "       [5, 5, 5, 5, 5, 5, 5, 5]])"
            ]
          },
          "metadata": {},
          "execution_count": 31
        }
      ]
    },
    {
      "cell_type": "code",
      "source": [
        "a.flatten()"
      ],
      "metadata": {
        "colab": {
          "base_uri": "https://localhost:8080/"
        },
        "id": "KilIeX87x3Dx",
        "outputId": "35ef0b97-e59b-40da-a54b-295ef42da88e"
      },
      "execution_count": 32,
      "outputs": [
        {
          "output_type": "execute_result",
          "data": {
            "text/plain": [
              "array([5, 5, 5, 5, 5, 5, 5, 5, 5, 5, 5, 5, 5, 5, 5, 5, 5, 5, 5, 5, 5, 5,\n",
              "       5, 5, 5, 5, 5, 5, 5, 5, 5, 5, 5, 5, 5, 5, 5, 5, 5, 5, 5, 5, 5, 5,\n",
              "       5, 5, 5, 5])"
            ]
          },
          "metadata": {},
          "execution_count": 32
        }
      ]
    },
    {
      "cell_type": "code",
      "source": [
        "arr = np.random.randint(120,size=(2,3,4,5,6))\n",
        "arr"
      ],
      "metadata": {
        "colab": {
          "base_uri": "https://localhost:8080/"
        },
        "id": "PTRPWY-6x9e5",
        "outputId": "9f0d730d-d0a3-45a6-a877-d68bc21da31b"
      },
      "execution_count": 33,
      "outputs": [
        {
          "output_type": "execute_result",
          "data": {
            "text/plain": [
              "array([[[[[ 29,  44,  79,  32,  67,  48],\n",
              "          [119, 119,  89,  94,   3,  14],\n",
              "          [ 58,  14,  43,  19,  28,  37],\n",
              "          [ 36,  55,  65,  52,  74,  37],\n",
              "          [ 93,  91,   0,  77,  47,  77]],\n",
              "\n",
              "         [[ 38,  78,  96,  89, 118,  88],\n",
              "          [ 13,  94,  92,  86,   7, 117],\n",
              "          [ 51,   0,   1,  39,  70,  53],\n",
              "          [ 30,  70,   6,   1,  11,   5],\n",
              "          [105,  38, 100, 103,  99, 101]],\n",
              "\n",
              "         [[ 77,  72,  36,  83,  46,  85],\n",
              "          [102,  93, 116,  78, 119,  79],\n",
              "          [ 98, 115,  65,  26,  18,  87],\n",
              "          [ 48,  61,  11,  60,  92,  75],\n",
              "          [ 20,  39,  36,  33,  57,  82]],\n",
              "\n",
              "         [[ 91,   6,  98,  51,  97,  96],\n",
              "          [ 43,  59,  89,  20,  24,  57],\n",
              "          [  7,  17,  83, 102,  19,  98],\n",
              "          [ 86,  81, 117,  42,  61,  45],\n",
              "          [ 76,  49,  55,  17, 114,  43]]],\n",
              "\n",
              "\n",
              "        [[[ 67,   7,  78, 106,  75,  70],\n",
              "          [ 43,  77,   3,  32, 114,  54],\n",
              "          [ 92,  47,  90,  17,   5,  36],\n",
              "          [ 19,  67,  98,  58,  70,  63],\n",
              "          [ 77,  21,  54,  13,  16,  76]],\n",
              "\n",
              "         [[ 53,   1,  30,  39,  26,  33],\n",
              "          [106,  84,  76,  96,  83,  41],\n",
              "          [ 47, 108,  44,  34,  96,  16],\n",
              "          [ 84,  78,  70,  96,  12,  29],\n",
              "          [ 13,  16,  69,  46, 103,   6]],\n",
              "\n",
              "         [[ 80,   3,  54,  66,   0,  54],\n",
              "          [ 60,  48,  90,  33,  10, 114],\n",
              "          [ 66,  37,  11,  60,   8,   7],\n",
              "          [116,  91,  67,  67,  17,   8],\n",
              "          [ 16,  17,  14, 115,  87,  37]],\n",
              "\n",
              "         [[ 30, 119,  23,  68, 104,   0],\n",
              "          [ 29,  28,  29,  97,   5,  64],\n",
              "          [ 27,  83, 112,   7,  63,  31],\n",
              "          [ 14,  52,  59, 110,  89,  20],\n",
              "          [ 50,  33, 101,  38,  48,  40]]],\n",
              "\n",
              "\n",
              "        [[[112,  11,  16,  16,   9,  57],\n",
              "          [ 54,  10,  17,  33, 105,  29],\n",
              "          [ 66,  93,  25,  90,   3,  33],\n",
              "          [ 33,  94,  57,  87,  23,   6],\n",
              "          [ 82,  81,  29,  64,  99,  35]],\n",
              "\n",
              "         [[ 95,  98,  69,  27,  90, 104],\n",
              "          [  9, 117,  87,   0,  82,  24],\n",
              "          [105,  86,  14,  86,  16,  66],\n",
              "          [111,  49,  20,  14,  31,  84],\n",
              "          [106,  14,  20,  50,  23,  19]],\n",
              "\n",
              "         [[  6, 101,  76,  73,  55,  46],\n",
              "          [ 60,  38,   8,  30,  70, 111],\n",
              "          [ 61,  83,  10,  90,  34,  72],\n",
              "          [ 86,  66,  17,  90,  76,  92],\n",
              "          [ 36,  11,   7,  78,  63,  26]],\n",
              "\n",
              "         [[ 23, 100,  27, 108,  66,  11],\n",
              "          [ 51,  97,  24,  35,  79, 101],\n",
              "          [ 10, 110,  64, 107,  98, 111],\n",
              "          [ 87,  59,  98,  12,  10, 110],\n",
              "          [ 51, 116,  91,  58, 116,  16]]]],\n",
              "\n",
              "\n",
              "\n",
              "       [[[[ 10,  97,  75, 114,  54,  57],\n",
              "          [ 18,   0,   5, 109,  70,  72],\n",
              "          [ 51,  77,  67,  78, 117,  40],\n",
              "          [ 81,  76,  80,   5,  36,  67],\n",
              "          [ 47,  13,  91, 105,  25,  11]],\n",
              "\n",
              "         [[ 20, 104,   9,  56,  38,  55],\n",
              "          [ 71,  30, 118,  21,   1,  77],\n",
              "          [ 76,  74,  67, 118,  17,  82],\n",
              "          [ 77, 106,  25, 101,  42,  34],\n",
              "          [  0,  37,  20,  50,  74, 107]],\n",
              "\n",
              "         [[ 50,  31,   5,  74,   8,  15],\n",
              "          [101,  45,   1,  23,  65, 116],\n",
              "          [ 13,   1,  71,  46,  72, 119],\n",
              "          [ 74,  21,  55,  12,  81,   9],\n",
              "          [  4,  12, 119,  45,  33,   3]],\n",
              "\n",
              "         [[ 89,   5,  95,  30,  99, 105],\n",
              "          [ 23, 105,  28,  67,  98,  82],\n",
              "          [ 85,  45,  86,   7,  55,  81],\n",
              "          [ 10, 117,  76,  53,  38, 112],\n",
              "          [ 28,  59,  57,  92,  10,  90]]],\n",
              "\n",
              "\n",
              "        [[[105, 110,  89,  78,  75,  33],\n",
              "          [  8,  47,   1,  48,  69,  85],\n",
              "          [ 98,  99,  29,  13,  83,  57],\n",
              "          [ 18,   8,  17,  42,  63,  48],\n",
              "          [ 96,  76,  91,  78,  63,  79]],\n",
              "\n",
              "         [[ 24,  46,  74,  76,  25,  89],\n",
              "          [ 30,  80, 116,  78,  29,  45],\n",
              "          [ 62,  11,  82,  15,  79,  62],\n",
              "          [ 55,  38, 104,   5,  84,  65],\n",
              "          [ 69, 108,  10,  49, 111,   2]],\n",
              "\n",
              "         [[  4,  39,  93,  63, 107,  87],\n",
              "          [103,  99,  59,  74,  77,  25],\n",
              "          [ 22, 106,  92,  21,  73,  23],\n",
              "          [110,  61,  15,  24,  73,  90],\n",
              "          [ 43,  67,  21,   4,  37,  24]],\n",
              "\n",
              "         [[ 55,   6, 117,  42,  71,  19],\n",
              "          [ 47,  50, 110,  99,  81,  62],\n",
              "          [ 97, 117,  82,  10,  65, 117],\n",
              "          [ 65,  99,  30,  22,  72,  94],\n",
              "          [108,  94,  35,  82,  95,   0]]],\n",
              "\n",
              "\n",
              "        [[[ 34,  82,  79,  60, 103,  15],\n",
              "          [ 24,  36,  19,  65, 118,  16],\n",
              "          [117, 111,  93,  44, 107,  29],\n",
              "          [ 44,  91,  91,  33,  52,  27],\n",
              "          [ 11,  56,   1,  26, 112,  85]],\n",
              "\n",
              "         [[ 48,  22, 113,  55,  66,  74],\n",
              "          [  1, 101,  66, 101, 114,  31],\n",
              "          [ 84,   9,  81,  32,  30,  11],\n",
              "          [ 94,  50,   7, 109, 106,  15],\n",
              "          [ 65,  18, 116,   8,   6,  62]],\n",
              "\n",
              "         [[102,  36,   7,  70,  68,  67],\n",
              "          [ 75,  51,  80,   9, 102,  70],\n",
              "          [ 68, 109,  81, 114,  15, 118],\n",
              "          [  8,   3,  63,  92,  84,  52],\n",
              "          [ 27,  29,  71,  27,  12,   0]],\n",
              "\n",
              "         [[109,  28,  35,  32,  95,   3],\n",
              "          [  2,  33,  27,  54,  61, 105],\n",
              "          [ 83,  78,  82,  41,  24,  36],\n",
              "          [ 33, 113,  16,   7,  20, 107],\n",
              "          [  3,  61,  59,  81,  94,  82]]]]])"
            ]
          },
          "metadata": {},
          "execution_count": 33
        }
      ]
    },
    {
      "cell_type": "code",
      "source": [
        "arr.ndim,arr.shape,arr.size"
      ],
      "metadata": {
        "colab": {
          "base_uri": "https://localhost:8080/"
        },
        "id": "HiU00yhoyY9C",
        "outputId": "5ac0ba0a-efbc-4196-8258-354d8af54eaf"
      },
      "execution_count": 34,
      "outputs": [
        {
          "output_type": "execute_result",
          "data": {
            "text/plain": [
              "(5, (2, 3, 4, 5, 6), 720)"
            ]
          },
          "metadata": {},
          "execution_count": 34
        }
      ]
    },
    {
      "cell_type": "code",
      "source": [
        "# Get all element from third row and fourth column from each second row\n",
        "# Get all elements from the 3rd row and 4th column from every 2nd row in a dataset"
      ],
      "metadata": {
        "id": "G_WxB5vHyNPx"
      },
      "execution_count": null,
      "outputs": []
    },
    {
      "cell_type": "code",
      "source": [
        "arr[1:,2:,:,:,3:]"
      ],
      "metadata": {
        "colab": {
          "base_uri": "https://localhost:8080/"
        },
        "id": "63V60u5mzQR6",
        "outputId": "4de11fc2-90f1-47c1-c135-bc443ac5f4f6"
      },
      "execution_count": 35,
      "outputs": [
        {
          "output_type": "execute_result",
          "data": {
            "text/plain": [
              "array([[[[[ 60, 103,  15],\n",
              "          [ 65, 118,  16],\n",
              "          [ 44, 107,  29],\n",
              "          [ 33,  52,  27],\n",
              "          [ 26, 112,  85]],\n",
              "\n",
              "         [[ 55,  66,  74],\n",
              "          [101, 114,  31],\n",
              "          [ 32,  30,  11],\n",
              "          [109, 106,  15],\n",
              "          [  8,   6,  62]],\n",
              "\n",
              "         [[ 70,  68,  67],\n",
              "          [  9, 102,  70],\n",
              "          [114,  15, 118],\n",
              "          [ 92,  84,  52],\n",
              "          [ 27,  12,   0]],\n",
              "\n",
              "         [[ 32,  95,   3],\n",
              "          [ 54,  61, 105],\n",
              "          [ 41,  24,  36],\n",
              "          [  7,  20, 107],\n",
              "          [ 81,  94,  82]]]]])"
            ]
          },
          "metadata": {},
          "execution_count": 35
        }
      ]
    },
    {
      "cell_type": "code",
      "source": [
        "a = np.array([1,2,3])\n",
        "b = np.array([4,5,6])\n",
        "\n",
        "np.add(a,b)"
      ],
      "metadata": {
        "colab": {
          "base_uri": "https://localhost:8080/"
        },
        "id": "_tXpvFNe0RDp",
        "outputId": "f51265b6-9e41-440c-c91e-c28182363f26"
      },
      "execution_count": 36,
      "outputs": [
        {
          "output_type": "execute_result",
          "data": {
            "text/plain": [
              "array([5, 7, 9])"
            ]
          },
          "metadata": {},
          "execution_count": 36
        }
      ]
    },
    {
      "cell_type": "code",
      "source": [
        "np.sum([a,b],axis=0) # row"
      ],
      "metadata": {
        "colab": {
          "base_uri": "https://localhost:8080/"
        },
        "id": "H-h8LdeR0q9y",
        "outputId": "46a91a0f-490b-4a60-8929-56b199b612c7"
      },
      "execution_count": 37,
      "outputs": [
        {
          "output_type": "execute_result",
          "data": {
            "text/plain": [
              "array([5, 7, 9])"
            ]
          },
          "metadata": {},
          "execution_count": 37
        }
      ]
    },
    {
      "cell_type": "code",
      "source": [
        "np.sum([a,b],axis=1)  # column"
      ],
      "metadata": {
        "colab": {
          "base_uri": "https://localhost:8080/"
        },
        "id": "HdlumVoK07BE",
        "outputId": "9b89a5f7-5695-4881-a15c-7cbd65b7f40d"
      },
      "execution_count": 38,
      "outputs": [
        {
          "output_type": "execute_result",
          "data": {
            "text/plain": [
              "array([ 6, 15])"
            ]
          },
          "metadata": {},
          "execution_count": 38
        }
      ]
    },
    {
      "cell_type": "code",
      "source": [
        "a = np.array([\n",
        "    [[1,2],\n",
        "      [3,4]],\n",
        "\n",
        "     [[5,6],\n",
        "      [7,8]]\n",
        "   ])\n",
        ""
      ],
      "metadata": {
        "id": "jon-TIis1Krq"
      },
      "execution_count": 41,
      "outputs": []
    },
    {
      "cell_type": "code",
      "source": [
        "a.ndim"
      ],
      "metadata": {
        "colab": {
          "base_uri": "https://localhost:8080/"
        },
        "id": "DrsOPeZX1aWM",
        "outputId": "43b8303d-21c2-4a74-d471-bd89e75332cc"
      },
      "execution_count": 42,
      "outputs": [
        {
          "output_type": "execute_result",
          "data": {
            "text/plain": [
              "3"
            ]
          },
          "metadata": {},
          "execution_count": 42
        }
      ]
    },
    {
      "cell_type": "code",
      "source": [
        "np.sum(a,axis=0)"
      ],
      "metadata": {
        "colab": {
          "base_uri": "https://localhost:8080/"
        },
        "id": "VUUfEFMK1gKq",
        "outputId": "f0410108-d297-4f2f-fbb8-ca634b555d7b"
      },
      "execution_count": 43,
      "outputs": [
        {
          "output_type": "execute_result",
          "data": {
            "text/plain": [
              "array([[ 6,  8],\n",
              "       [10, 12]])"
            ]
          },
          "metadata": {},
          "execution_count": 43
        }
      ]
    },
    {
      "cell_type": "code",
      "source": [
        "np.sum(a,axis=1)"
      ],
      "metadata": {
        "colab": {
          "base_uri": "https://localhost:8080/"
        },
        "id": "zGrq1lQd1sxq",
        "outputId": "7169afb9-dd31-4842-e4d1-6b1392af3839"
      },
      "execution_count": 44,
      "outputs": [
        {
          "output_type": "execute_result",
          "data": {
            "text/plain": [
              "array([[ 4,  6],\n",
              "       [12, 14]])"
            ]
          },
          "metadata": {},
          "execution_count": 44
        }
      ]
    },
    {
      "cell_type": "code",
      "source": [],
      "metadata": {
        "id": "HP_Bm33410E6"
      },
      "execution_count": null,
      "outputs": []
    }
  ]
}